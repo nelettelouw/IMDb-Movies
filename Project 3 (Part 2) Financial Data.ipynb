{
 "cells": [
  {
   "attachments": {
    "99235214-17c6-4452-8017-0f77248767e3.png": {
     "image/png": "[encoded data removed]"
    }
   },
   "cell_type": "markdown",
   "id": "6a68eb1e-6e2a-4185-9aca-3bb5a0ff42a2",
   "metadata": {},
   "source": [
    "![image.png](attachment:99235214-17c6-4452-8017-0f77248767e3.png)"
   ]
  },
  {
   "attachments": {},
   "cell_type": "markdown",
   "id": "72a8e6b3-47f4-4d5c-ac18-955636a96267",
   "metadata": {},
   "source": [
    "# IMDb Movies Analysis and Predictions"
   ]
  },
  {
   "cell_type": "markdown",
   "id": "c1c21c2f-17cb-4feb-bb1e-1ae180ae0290",
   "metadata": {},
   "source": [
    "## Business Problem:\n",
    "For this project, you have been hired to produce a MySQL database on Movies from a subset of IMDB's publicly available dataset. Ultimately, you will use this database to analyze what makes a movie successful and will provide recommendations to the stakeholder on how to make a successful movie."
   ]
  },
  {
   "cell_type": "markdown",
   "id": "cd13f202-8c88-4229-8a19-9340423fb8a0",
   "metadata": {},
   "source": [
    "### Source:  \n",
    "#### https://datasets.imdbws.com/ .gz"
   ]
  },
  {
   "cell_type": "markdown",
   "id": "052d9c66-b6d6-4e26-9027-a6e46aac668d",
   "metadata": {},
   "source": [
    "We will focus on the following data files: <br> \n",
    "**title.basics.tsv.gz** <br>\n",
    "**title.ratings.tsv.gz** <br>\n",
    "**title.akas.tsv.gz** <br>"
   ]
  },
  {
   "cell_type": "code",
   "execution_count": 1,
   "id": "b9160189-9acf-4576-b2e0-6d47f162227c",
   "metadata": {},
   "outputs": [],
   "source": [
    "# !pip install tmdbsimple"
   ]
  },
  {
   "cell_type": "markdown",
   "id": "8c85e306-ea52-4aec-8e50-84bda6e7beee",
   "metadata": {},
   "source": [
    "### Part 2: Financial Data    \n",
    "***\n",
    "#### Use an API to **extract box office revenue and profit data** to add to your IMDB data and **perform exploratory data analysis**.\n",
    "\n",
    "**Specifications - Financial Data**\r\n",
    "\r\n",
    "Your stakeholder would like you to extract and save the results for movies that meet all of the criteria established in part 1 of the project (You should already have a filtered dataframe saved from part one as a csv.gz file)\r\n",
    "\r\n",
    "As a proof-of-concept, they requested you perform a test extraction of movies that started in 2000 or 201\r\n",
    "\r\n",
    "Each year should be saved as a separate .csv.gz **file\r",
    "**\n",
    "\r\n",
    "Hint: Use the two custom functions from the lessons (Intro to TMDB API, and Efficient TMDB API r-  code!\r\n",
    "\r\n",
    "One function will add the certification (MPGG Rating) to m- ovie.info\r\n",
    "The other function will help you append/extend a JSON file with Python\r\n",
    "Confirm Your API Function works.\r\n",
    "\r\n",
    "In order to ensure your function for extracting movie data from TMDB is working, test your function on these 2 movie ids: tt0848228 (\"The Avengers\") and tt0332280 (\"The Notebook\"). Make sure that your function runs without error and that it returns the correct movie's data for boSve etrieved and saved the final results to 2 sepallowing questions."
   ]
  },
  {
   "cell_type": "markdown",
   "id": "81093055-246d-4674-a37f-b64d1ab31c55",
   "metadata": {},
   "source": [
    "- #### **Financial Data**\n",
    "> Your stakeholder wants you to extract the budget, revenue, and MPAA Rating (G/PG/PG-13/R), which is also called \"Certification\""
   ]
  },
  {
   "cell_type": "markdown",
   "id": "d47a18a2-62a6-4b8d-a449-f432d07a52ea",
   "metadata": {},
   "source": [
    "#### **1. Imports**"
   ]
  },
  {
   "cell_type": "code",
   "execution_count": 2,
   "id": "957d59c9-7085-4515-b43b-d4cef058db0d",
   "metadata": {},
   "outputs": [
    {
     "data": {
      "text/plain": [
       "['akas.csv.gz',\n",
       " 'final_tmdb_data_2001.csv.gz',\n",
       " 'final_tmdb_data_2002.csv.gz',\n",
       " 'ratings.csv.gz',\n",
       " 'title_basics.csv.gz',\n",
       " 'tmdb_api_results_2001.json',\n",
       " 'tmdb_api_results_2002.json',\n",
       " 'tmdb_results_combined.csv.gz']"
      ]
     },
     "execution_count": 2,
     "metadata": {},
     "output_type": "execute_result"
    }
   ],
   "source": [
    "import pandas as pd\n",
    "\n",
    "import os, time,json\n",
    "import tmdbsimple as tmdb \n",
    "from tqdm.notebook import tqdm_notebook\n",
    "\n",
    "import matplotlib.pyplot as plt\n",
    "\n",
    "FOLDER = \"Data/\"\n",
    "os.makedirs(FOLDER, exist_ok=True)\n",
    "os.listdir(FOLDER)"
   ]
  },
  {
   "cell_type": "markdown",
   "id": "16ef193a-9438-4957-aeb9-ee0fe287b470",
   "metadata": {},
   "source": [
    "- #### **Functions**"
   ]
  },
  {
   "cell_type": "code",
   "execution_count": 3,
   "id": "7a3f92fa-f7b9-4820-b3ce-cf364a31cc9e",
   "metadata": {},
   "outputs": [],
   "source": [
    "def get_movie_with_rating(movie_id):\n",
    "        movie = tmdb.Movies(movie_id)\n",
    "        info = movie.info()\n",
    "        \n",
    "        release = movie.releases()\n",
    "        for c in release['countries']:\n",
    "            if c['iso_3166_1'] == 'US':\n",
    "                info['certification'] = c['certification']\n",
    "\n",
    "        return info"
   ]
  },
  {
   "cell_type": "code",
   "execution_count": 4,
   "id": "d7ec43d1-9a86-41b8-a250-80580ac2a786",
   "metadata": {},
   "outputs": [],
   "source": [
    "def write_json(new_data, filename): \n",
    "    \"\"\"Appends a list of records (new_data) to a json file (filename). \n",
    "    Adapted from: https://www.geeksforgeeks.org/append-to-json-file-using-python/\"\"\"  \n",
    "    \n",
    "    with open(filename,'r+') as file:\n",
    "        # First we load existing data into a dict.\n",
    "        file_data = json.load(file)\n",
    "        ## Choose extend or append\n",
    "        if (type(new_data) == list) & (type(file_data) == list):\n",
    "            file_data.extend(new_data)\n",
    "        else:\n",
    "             file_data.append(new_data)\n",
    "        # Sets file's current position at offset.\n",
    "        file.seek(0)\n",
    "        # convert back to json.\n",
    "        json.dump(file_data, file)"
   ]
  },
  {
   "cell_type": "markdown",
   "id": "e131bd9d-205c-4c7e-8d72-f5198840790b",
   "metadata": {},
   "source": [
    "- #### **Using Your API Credentials**"
   ]
  },
  {
   "cell_type": "code",
   "execution_count": 5,
   "id": "e880427d-e8c4-40c6-b7ca-0096e542d2a2",
   "metadata": {},
   "outputs": [],
   "source": [
    "with open('/Users/NelLouw/.secret/tmdb_api.json', 'r') as f:\n",
    "\n",
    "    login = json.load(f)\n",
    "\n",
    "tmdb.API_KEY =  login['api-key']"
   ]
  },
  {
   "cell_type": "markdown",
   "id": "6c32530e-9247-4058-a31c-dd2b2b5f31b6",
   "metadata": {},
   "source": [
    "- #### **Confirm Your API Function works**"
   ]
  },
  {
   "cell_type": "code",
   "execution_count": 6,
   "id": "acae8def-dc95-4981-bc9c-fb164a55abe6",
   "metadata": {},
   "outputs": [
    {
     "name": "stdout",
     "output_type": "stream",
     "text": [
      "- Number of successfull retrievals: 2\n",
      "- Number of errors: 0\n"
     ]
    }
   ],
   "source": [
    "# Testing our function by looping through a list of ids\n",
    "\n",
    "test_ids = [\"tt0848228\", \"tt0332280\"]  \n",
    "results = []\n",
    "errors = []\n",
    "for movie_id in test_ids:\n",
    "    \n",
    "    try:\n",
    "        movie_info = get_movie_with_rating(movie_id)\n",
    "        results.append(movie_info)\n",
    "        \n",
    "    except Exception as e: \n",
    "        errors.append([movie_id, e])\n",
    "    \n",
    "pd.DataFrame(results)\n",
    "pd.DataFrame(errors)\n",
    "\n",
    "print(f\"- Number of successfull retrievals: {len(results)}\")\n",
    "print(f\"- Number of errors: {len(errors)}\")"
   ]
  },
  {
   "cell_type": "markdown",
   "id": "6a1dc7f0-017e-44d3-867c-90bc8cac9c91",
   "metadata": {},
   "source": [
    "- #### **Load in the Title Basics data**"
   ]
  },
  {
   "cell_type": "code",
   "execution_count": 7,
   "id": "91a90b73-38ee-45ed-a992-48cc413a61dc",
   "metadata": {},
   "outputs": [],
   "source": [
    "# Load in the dataframe from project part 1 as basics:\n",
    "basics = pd.read_csv(f'{FOLDER}title_basics.csv.gz')"
   ]
  },
  {
   "cell_type": "code",
   "execution_count": 8,
   "id": "25979c5e-0f05-4d9f-a342-4404e66e7f68",
   "metadata": {},
   "outputs": [
    {
     "data": {
      "text/html": [
       "<div>\n",
       "<style scoped>\n",
       "    .dataframe tbody tr th:only-of-type {\n",
       "        vertical-align: middle;\n",
       "    }\n",
       "\n",
       "    .dataframe tbody tr th {\n",
       "        vertical-align: top;\n",
       "    }\n",
       "\n",
       "    .dataframe thead th {\n",
       "        text-align: right;\n",
       "    }\n",
       "</style>\n",
       "<table border=\"1\" class=\"dataframe\">\n",
       "  <thead>\n",
       "    <tr style=\"text-align: right;\">\n",
       "      <th></th>\n",
       "      <th>tconst</th>\n",
       "      <th>titleType</th>\n",
       "      <th>primaryTitle</th>\n",
       "      <th>originalTitle</th>\n",
       "      <th>isAdult</th>\n",
       "      <th>startYear</th>\n",
       "      <th>endYear</th>\n",
       "      <th>runtimeMinutes</th>\n",
       "      <th>genres</th>\n",
       "    </tr>\n",
       "  </thead>\n",
       "  <tbody>\n",
       "    <tr>\n",
       "      <th>0</th>\n",
       "      <td>tt0035423</td>\n",
       "      <td>movie</td>\n",
       "      <td>Kate &amp; Leopold</td>\n",
       "      <td>Kate &amp; Leopold</td>\n",
       "      <td>0</td>\n",
       "      <td>2001.0</td>\n",
       "      <td>NaN</td>\n",
       "      <td>118</td>\n",
       "      <td>Comedy,Fantasy,Romance</td>\n",
       "    </tr>\n",
       "    <tr>\n",
       "      <th>1</th>\n",
       "      <td>tt0062336</td>\n",
       "      <td>movie</td>\n",
       "      <td>The Tango of the Widower and Its Distorting Mi...</td>\n",
       "      <td>El tango del viudo y su espejo deformante</td>\n",
       "      <td>0</td>\n",
       "      <td>2020.0</td>\n",
       "      <td>NaN</td>\n",
       "      <td>70</td>\n",
       "      <td>Drama</td>\n",
       "    </tr>\n",
       "    <tr>\n",
       "      <th>2</th>\n",
       "      <td>tt0069049</td>\n",
       "      <td>movie</td>\n",
       "      <td>The Other Side of the Wind</td>\n",
       "      <td>The Other Side of the Wind</td>\n",
       "      <td>0</td>\n",
       "      <td>2018.0</td>\n",
       "      <td>NaN</td>\n",
       "      <td>122</td>\n",
       "      <td>Drama</td>\n",
       "    </tr>\n",
       "    <tr>\n",
       "      <th>3</th>\n",
       "      <td>tt0082328</td>\n",
       "      <td>movie</td>\n",
       "      <td>Embodiment of Evil</td>\n",
       "      <td>Encarnação do Demônio</td>\n",
       "      <td>0</td>\n",
       "      <td>2008.0</td>\n",
       "      <td>NaN</td>\n",
       "      <td>94</td>\n",
       "      <td>Horror</td>\n",
       "    </tr>\n",
       "    <tr>\n",
       "      <th>4</th>\n",
       "      <td>tt0088751</td>\n",
       "      <td>movie</td>\n",
       "      <td>The Naked Monster</td>\n",
       "      <td>The Naked Monster</td>\n",
       "      <td>0</td>\n",
       "      <td>2005.0</td>\n",
       "      <td>NaN</td>\n",
       "      <td>100</td>\n",
       "      <td>Comedy,Horror,Sci-Fi</td>\n",
       "    </tr>\n",
       "  </tbody>\n",
       "</table>\n",
       "</div>"
      ],
      "text/plain": [
       "      tconst titleType                                       primaryTitle  \\\n",
       "0  tt0035423     movie                                     Kate & Leopold   \n",
       "1  tt0062336     movie  The Tango of the Widower and Its Distorting Mi...   \n",
       "2  tt0069049     movie                         The Other Side of the Wind   \n",
       "3  tt0082328     movie                                 Embodiment of Evil   \n",
       "4  tt0088751     movie                                  The Naked Monster   \n",
       "\n",
       "                               originalTitle  isAdult  startYear  endYear  \\\n",
       "0                             Kate & Leopold        0     2001.0      NaN   \n",
       "1  El tango del viudo y su espejo deformante        0     2020.0      NaN   \n",
       "2                 The Other Side of the Wind        0     2018.0      NaN   \n",
       "3                      Encarnação do Demônio        0     2008.0      NaN   \n",
       "4                          The Naked Monster        0     2005.0      NaN   \n",
       "\n",
       "   runtimeMinutes                  genres  \n",
       "0             118  Comedy,Fantasy,Romance  \n",
       "1              70                   Drama  \n",
       "2             122                   Drama  \n",
       "3              94                  Horror  \n",
       "4             100    Comedy,Horror,Sci-Fi  "
      ]
     },
     "execution_count": 8,
     "metadata": {},
     "output_type": "execute_result"
    }
   ],
   "source": [
    "basics.head()"
   ]
  },
  {
   "cell_type": "markdown",
   "id": "e0ecaf69-7212-4c83-b16e-5bc2f42f0562",
   "metadata": {},
   "source": [
    "- #### **Create Required Lists for the Loop**"
   ]
  },
  {
   "cell_type": "code",
   "execution_count": 9,
   "id": "e1dd260c-10fd-49ac-b358-38eeea3c8007",
   "metadata": {},
   "outputs": [],
   "source": [
    "YEARS_TO_GET = [2001,2002]"
   ]
  },
  {
   "cell_type": "code",
   "execution_count": 10,
   "id": "7f79ebd8-abe7-4cab-bb18-614ed187539c",
   "metadata": {},
   "outputs": [
    {
     "data": {
      "application/vnd.jupyter.widget-view+json": {
       "model_id": "3390ccf5a6d94779bc58dad24974be91",
       "version_major": 2,
       "version_minor": 0
      },
      "text/plain": [
       "YEARS:   0%|          | 0/2 [00:00<?, ?it/s]"
      ]
     },
     "metadata": {},
     "output_type": "display_data"
    },
    {
     "data": {
      "application/vnd.jupyter.widget-view+json": {
       "model_id": "59b7199628bd4dfcb081ff1e7bea9da8",
       "version_major": 2,
       "version_minor": 0
      },
      "text/plain": [
       "Movies from 2001:   0%|          | 0/1585 [00:00<?, ?it/s]"
      ]
     },
     "metadata": {},
     "output_type": "display_data"
    },
    {
     "data": {
      "application/vnd.jupyter.widget-view+json": {
       "model_id": "116a5257229b42a79e78d1fff0e67f4b",
       "version_major": 2,
       "version_minor": 0
      },
      "text/plain": [
       "Movies from 2002:   0%|          | 0/1584 [00:00<?, ?it/s]"
      ]
     },
     "metadata": {},
     "output_type": "display_data"
    },
    {
     "name": "stdout",
     "output_type": "stream",
     "text": [
      "- Total errors: 499\n"
     ]
    }
   ],
   "source": [
    "# Organize output by year into separate .json files using an OUTER LOOP\n",
    "# Start of OUTER loop\n",
    "for YEAR in tqdm_notebook(YEARS_TO_GET, desc='YEARS', position=0):\n",
    "    # Defining the JSON file to store results for the year\n",
    "    JSON_FILE = f'{FOLDER}tmdb_api_results_{YEAR}.json'\n",
    "    \n",
    "    # Check if the file exists\n",
    "    file_exists = os.path.isfile(JSON_FILE)\n",
    "    \n",
    "    # If it does not exist: create it\n",
    "    if not file_exists:  # Simplified condition\n",
    "        # Save an empty dict with just \"imdb_id\" to the new json file.\n",
    "        with open(JSON_FILE, 'w') as f:\n",
    "            json.dump([{'imdb_id': 0}], f)\n",
    "\n",
    "    # Saving the new year as the current df\n",
    "    df = basics.loc[basics['startYear'] == YEAR].copy()\n",
    "    # Saving movie ids to list\n",
    "    movie_ids = df['tconst'].copy()\n",
    "\n",
    "    # Load existing data from json into a dataframe called \"previous_df\"\n",
    "    previous_df = pd.read_json(JSON_FILE)\n",
    "\n",
    "    # Filter out any ids that are already in the JSON_FILE\n",
    "    movie_ids_to_get = movie_ids[~movie_ids.isin(previous_df['imdb_id'])]\n",
    "\n",
    "    # Get index and movie id from the list\n",
    "\n",
    " #Develop code to make API calls based on our existing IMDB IDs with the INNER Loop   \n",
    "    # INNER Loop\n",
    "    for movie_id in tqdm_notebook(movie_ids_to_get,\n",
    "                                  desc=f'Movies from {YEAR}',\n",
    "                                  position=1,\n",
    "                                  leave=True):\n",
    "        try:\n",
    "            # Retrieve the data for the movie id\n",
    "            temp = get_movie_with_rating(movie_id)\n",
    "            # Append/extend results to the existing file using a pre-made function\n",
    "            write_json(temp, JSON_FILE)\n",
    "            # Short 20 ms sleep to prevent overwhelming the server\n",
    "            time.sleep(0.02)\n",
    "\n",
    "        except Exception as e:\n",
    "            errors.append([movie_id, e])\n",
    "\n",
    "    final_year_df = pd.read_json(JSON_FILE)\n",
    "    final_year_df.to_csv(f\"{FOLDER}final_tmdb_data_{YEAR}.csv.gz\", compression=\"gzip\", index=False)\n",
    "\n",
    "print(f\"- Total errors: {len(errors)}\")"
   ]
  }
 ],
 "metadata": {
  "kernelspec": {
   "display_name": "Python (dojo-env)",
   "language": "python",
   "name": "dojo-env"
  },
  "language_info": {
   "codemirror_mode": {
    "name": "ipython",
    "version": 3
   },
   "file_extension": ".py",
   "mimetype": "text/x-python",
   "name": "python",
   "nbconvert_exporter": "python",
   "pygments_lexer": "ipython3",
   "version": "3.10.10"
  },
  "widgets": {
   "application/vnd.jupyter.widget-state+json": {
    "state": {
     "05a6396e28124e50b6ed216d5da31ebb": {
      "model_module": "@jupyter-widgets/controls",
      "model_module_version": "2.0.0",
      "model_name": "HTMLStyleModel",
      "state": {
       "description_width": "",
       "font_size": null,
       "text_color": null
      }
     },
     "113856f1e6e3423ebd2fd7e8bd4e8925": {
      "model_module": "@jupyter-widgets/controls",
      "model_module_version": "2.0.0",
      "model_name": "HTMLModel",
      "state": {
       "layout": "IPY_MODEL_ebaf605414d2422d84a99742e29555aa",
       "style": "IPY_MODEL_d0e3170eba8f40c09ed725874f49d4c1",
       "value": " 1584/1584 [23:37&lt;00:00,  1.75it/s]"
      }
     },
     "116a5257229b42a79e78d1fff0e67f4b": {
      "model_module": "@jupyter-widgets/controls",
      "model_module_version": "2.0.0",
      "model_name": "HBoxModel",
      "state": {
       "children": [
        "IPY_MODEL_2c8cd1f8ac7943af8c9a70cb4e374658",
        "IPY_MODEL_e29f6a9b20884e48ab126997191d1be9",
        "IPY_MODEL_113856f1e6e3423ebd2fd7e8bd4e8925"
       ],
       "layout": "IPY_MODEL_434ad250668346028b11974262f3a347"
      }
     },
     "1ea1b6947d194eb683678bd1fbfdf42b": {
      "model_module": "@jupyter-widgets/base",
      "model_module_version": "2.0.0",
      "model_name": "LayoutModel",
      "state": {}
     },
     "27ec7e661eec46d6b7e79cebc8ab4f9c": {
      "model_module": "@jupyter-widgets/base",
      "model_module_version": "2.0.0",
      "model_name": "LayoutModel",
      "state": {}
     },
     "2c8cd1f8ac7943af8c9a70cb4e374658": {
      "model_module": "@jupyter-widgets/controls",
      "model_module_version": "2.0.0",
      "model_name": "HTMLModel",
      "state": {
       "layout": "IPY_MODEL_40cc7af111ca44ec895c6e2a837c9cb4",
       "style": "IPY_MODEL_73e70dcdf455421fb2350eaec70c373a",
       "value": "Movies from 2002: 100%"
      }
     },
     "3183260fe1734809a3745e50dbadbfd1": {
      "model_module": "@jupyter-widgets/controls",
      "model_module_version": "2.0.0",
      "model_name": "ProgressStyleModel",
      "state": {
       "description_width": ""
      }
     },
     "319c088526824671a2557ccd309989dc": {
      "model_module": "@jupyter-widgets/controls",
      "model_module_version": "2.0.0",
      "model_name": "HTMLModel",
      "state": {
       "layout": "IPY_MODEL_956399d042bf4c9c9beaa9f596ad6548",
       "style": "IPY_MODEL_c3075b12920d49aea125438a18a6f750",
       "value": " 2/2 [00:00&lt;00:00, 17.85it/s]"
      }
     },
     "3390ccf5a6d94779bc58dad24974be91": {
      "model_module": "@jupyter-widgets/controls",
      "model_module_version": "2.0.0",
      "model_name": "HBoxModel",
      "state": {
       "children": [
        "IPY_MODEL_fe6ca3c342cb4e318c4e1ef56bab249a",
        "IPY_MODEL_bba72782778546b4a8cb89716d5db673",
        "IPY_MODEL_355d5edb157743ec950a2f4cfdde4573"
       ],
       "layout": "IPY_MODEL_85c4c118f2d14f4a803d2498c66c4729"
      }
     },
     "355d5edb157743ec950a2f4cfdde4573": {
      "model_module": "@jupyter-widgets/controls",
      "model_module_version": "2.0.0",
      "model_name": "HTMLModel",
      "state": {
       "layout": "IPY_MODEL_d92d3238cd6a49a1b776053b384914e5",
       "style": "IPY_MODEL_4fca20006fed4802bc5013be982fd419",
       "value": " 2/2 [47:50&lt;00:00, 1432.24s/it]"
      }
     },
     "3e4a95612cee486ca49d4a753d6b849b": {
      "model_module": "@jupyter-widgets/controls",
      "model_module_version": "2.0.0",
      "model_name": "HTMLModel",
      "state": {
       "layout": "IPY_MODEL_d759a6056a49483faa1539dc99a50a3b",
       "style": "IPY_MODEL_d787ef1cafe54f81bd7e4d168b92fd82",
       "value": " 1585/1585 [24:13&lt;00:00,  1.53it/s]"
      }
     },
     "40cc7af111ca44ec895c6e2a837c9cb4": {
      "model_module": "@jupyter-widgets/base",
      "model_module_version": "2.0.0",
      "model_name": "LayoutModel",
      "state": {}
     },
     "434ad250668346028b11974262f3a347": {
      "model_module": "@jupyter-widgets/base",
      "model_module_version": "2.0.0",
      "model_name": "LayoutModel",
      "state": {}
     },
     "46799998bb0547f4a2fa0b616184529d": {
      "model_module": "@jupyter-widgets/controls",
      "model_module_version": "2.0.0",
      "model_name": "HTMLModel",
      "state": {
       "layout": "IPY_MODEL_99ddac33758a4605a55ab2dde69e454d",
       "style": "IPY_MODEL_ae57d6bca7ce4fa28d41c52399ca34e8",
       "value": " 280/280 [01:57&lt;00:00,  2.62it/s]"
      }
     },
     "4f00d89fd0014f99be18705cc9bde847": {
      "model_module": "@jupyter-widgets/base",
      "model_module_version": "2.0.0",
      "model_name": "LayoutModel",
      "state": {}
     },
     "4fca20006fed4802bc5013be982fd419": {
      "model_module": "@jupyter-widgets/controls",
      "model_module_version": "2.0.0",
      "model_name": "HTMLStyleModel",
      "state": {
       "description_width": "",
       "font_size": null,
       "text_color": null
      }
     },
     "53d72a42f59d46bc9b38ac9eaa7970ee": {
      "model_module": "@jupyter-widgets/controls",
      "model_module_version": "2.0.0",
      "model_name": "HBoxModel",
      "state": {
       "children": [
        "IPY_MODEL_aa5aaa74f3a44ebf9d8dd998d8d09963",
        "IPY_MODEL_ed7e076f644e444497567b4995bfcc88",
        "IPY_MODEL_46799998bb0547f4a2fa0b616184529d"
       ],
       "layout": "IPY_MODEL_89db937020a14247af23ee0c1b8c58c8"
      }
     },
     "5615d99e98d54f088abd3d31c5ec8f2f": {
      "model_module": "@jupyter-widgets/controls",
      "model_module_version": "2.0.0",
      "model_name": "HBoxModel",
      "state": {
       "children": [
        "IPY_MODEL_c3088cb62b7a4977ad34b25a8a6bba1e",
        "IPY_MODEL_cf5b458019f742419ad7caca286cbc07",
        "IPY_MODEL_319c088526824671a2557ccd309989dc"
       ],
       "layout": "IPY_MODEL_8502a6c9866d46a288c3eae72a5bf21b"
      }
     },
     "573c60bc4a00485c877f90d97ab425db": {
      "model_module": "@jupyter-widgets/controls",
      "model_module_version": "2.0.0",
      "model_name": "ProgressStyleModel",
      "state": {
       "description_width": ""
      }
     },
     "59b7199628bd4dfcb081ff1e7bea9da8": {
      "model_module": "@jupyter-widgets/controls",
      "model_module_version": "2.0.0",
      "model_name": "HBoxModel",
      "state": {
       "children": [
        "IPY_MODEL_832c2d63e48e4640b198233b56cb81c0",
        "IPY_MODEL_cd7d242449844c2faf439a4c7630454f",
        "IPY_MODEL_3e4a95612cee486ca49d4a753d6b849b"
       ],
       "layout": "IPY_MODEL_9f68c6c913b44ef5a615978762f1e930"
      }
     },
     "5d33af1e8b9b49c18ffbca84f7be92b5": {
      "model_module": "@jupyter-widgets/base",
      "model_module_version": "2.0.0",
      "model_name": "LayoutModel",
      "state": {}
     },
     "642a06c1955346e49f2532a999fe3ae3": {
      "model_module": "@jupyter-widgets/controls",
      "model_module_version": "2.0.0",
      "model_name": "HTMLStyleModel",
      "state": {
       "description_width": "",
       "font_size": null,
       "text_color": null
      }
     },
     "6c4d503d9a9f487392d16cc15f932070": {
      "model_module": "@jupyter-widgets/controls",
      "model_module_version": "2.0.0",
      "model_name": "ProgressStyleModel",
      "state": {
       "description_width": ""
      }
     },
     "73e70dcdf455421fb2350eaec70c373a": {
      "model_module": "@jupyter-widgets/controls",
      "model_module_version": "2.0.0",
      "model_name": "HTMLStyleModel",
      "state": {
       "description_width": "",
       "font_size": null,
       "text_color": null
      }
     },
     "832c2d63e48e4640b198233b56cb81c0": {
      "model_module": "@jupyter-widgets/controls",
      "model_module_version": "2.0.0",
      "model_name": "HTMLModel",
      "state": {
       "layout": "IPY_MODEL_5d33af1e8b9b49c18ffbca84f7be92b5",
       "style": "IPY_MODEL_dc4309843b4948198b5ecd11854d5768",
       "value": "Movies from 2001: 100%"
      }
     },
     "8502a6c9866d46a288c3eae72a5bf21b": {
      "model_module": "@jupyter-widgets/base",
      "model_module_version": "2.0.0",
      "model_name": "LayoutModel",
      "state": {}
     },
     "85c4c118f2d14f4a803d2498c66c4729": {
      "model_module": "@jupyter-widgets/base",
      "model_module_version": "2.0.0",
      "model_name": "LayoutModel",
      "state": {}
     },
     "89db937020a14247af23ee0c1b8c58c8": {
      "model_module": "@jupyter-widgets/base",
      "model_module_version": "2.0.0",
      "model_name": "LayoutModel",
      "state": {}
     },
     "903119eb0a464ba5bb4850a284f845a7": {
      "model_module": "@jupyter-widgets/base",
      "model_module_version": "2.0.0",
      "model_name": "LayoutModel",
      "state": {}
     },
     "912b79fd7ced4b1493f69ff3826b107a": {
      "model_module": "@jupyter-widgets/controls",
      "model_module_version": "2.0.0",
      "model_name": "HTMLStyleModel",
      "state": {
       "description_width": "",
       "font_size": null,
       "text_color": null
      }
     },
     "956399d042bf4c9c9beaa9f596ad6548": {
      "model_module": "@jupyter-widgets/base",
      "model_module_version": "2.0.0",
      "model_name": "LayoutModel",
      "state": {}
     },
     "97815d43827246cb8fb0349226b11c1a": {
      "model_module": "@jupyter-widgets/controls",
      "model_module_version": "2.0.0",
      "model_name": "ProgressStyleModel",
      "state": {
       "description_width": ""
      }
     },
     "99ddac33758a4605a55ab2dde69e454d": {
      "model_module": "@jupyter-widgets/base",
      "model_module_version": "2.0.0",
      "model_name": "LayoutModel",
      "state": {}
     },
     "9f68c6c913b44ef5a615978762f1e930": {
      "model_module": "@jupyter-widgets/base",
      "model_module_version": "2.0.0",
      "model_name": "LayoutModel",
      "state": {}
     },
     "aa5aaa74f3a44ebf9d8dd998d8d09963": {
      "model_module": "@jupyter-widgets/controls",
      "model_module_version": "2.0.0",
      "model_name": "HTMLModel",
      "state": {
       "layout": "IPY_MODEL_f1e9fa388731423087b50e8b12ec0a2e",
       "style": "IPY_MODEL_642a06c1955346e49f2532a999fe3ae3",
       "value": "Movies from 2002: 100%"
      }
     },
     "ae57d6bca7ce4fa28d41c52399ca34e8": {
      "model_module": "@jupyter-widgets/controls",
      "model_module_version": "2.0.0",
      "model_name": "HTMLStyleModel",
      "state": {
       "description_width": "",
       "font_size": null,
       "text_color": null
      }
     },
     "b3f80130b1204732a40ac0a40de06bed": {
      "model_module": "@jupyter-widgets/base",
      "model_module_version": "2.0.0",
      "model_name": "LayoutModel",
      "state": {}
     },
     "bba72782778546b4a8cb89716d5db673": {
      "model_module": "@jupyter-widgets/controls",
      "model_module_version": "2.0.0",
      "model_name": "FloatProgressModel",
      "state": {
       "bar_style": "success",
       "layout": "IPY_MODEL_4f00d89fd0014f99be18705cc9bde847",
       "max": 2,
       "style": "IPY_MODEL_3183260fe1734809a3745e50dbadbfd1",
       "value": 2
      }
     },
     "bc5317762c95474ba350932f3dc32d44": {
      "model_module": "@jupyter-widgets/base",
      "model_module_version": "2.0.0",
      "model_name": "LayoutModel",
      "state": {}
     },
     "c3075b12920d49aea125438a18a6f750": {
      "model_module": "@jupyter-widgets/controls",
      "model_module_version": "2.0.0",
      "model_name": "HTMLStyleModel",
      "state": {
       "description_width": "",
       "font_size": null,
       "text_color": null
      }
     },
     "c3088cb62b7a4977ad34b25a8a6bba1e": {
      "model_module": "@jupyter-widgets/controls",
      "model_module_version": "2.0.0",
      "model_name": "HTMLModel",
      "state": {
       "layout": "IPY_MODEL_d9fb2ea95ddb41149f51cea3126a9d98",
       "style": "IPY_MODEL_05a6396e28124e50b6ed216d5da31ebb",
       "value": "YEARS: 100%"
      }
     },
     "cd7d242449844c2faf439a4c7630454f": {
      "model_module": "@jupyter-widgets/controls",
      "model_module_version": "2.0.0",
      "model_name": "FloatProgressModel",
      "state": {
       "bar_style": "success",
       "layout": "IPY_MODEL_903119eb0a464ba5bb4850a284f845a7",
       "max": 1585,
       "style": "IPY_MODEL_ef6d2c1a37c24b2590e69c24436e251b",
       "value": 1585
      }
     },
     "cf5b458019f742419ad7caca286cbc07": {
      "model_module": "@jupyter-widgets/controls",
      "model_module_version": "2.0.0",
      "model_name": "FloatProgressModel",
      "state": {
       "bar_style": "success",
       "layout": "IPY_MODEL_1ea1b6947d194eb683678bd1fbfdf42b",
       "max": 2,
       "style": "IPY_MODEL_573c60bc4a00485c877f90d97ab425db",
       "value": 2
      }
     },
     "d0e3170eba8f40c09ed725874f49d4c1": {
      "model_module": "@jupyter-widgets/controls",
      "model_module_version": "2.0.0",
      "model_name": "HTMLStyleModel",
      "state": {
       "description_width": "",
       "font_size": null,
       "text_color": null
      }
     },
     "d759a6056a49483faa1539dc99a50a3b": {
      "model_module": "@jupyter-widgets/base",
      "model_module_version": "2.0.0",
      "model_name": "LayoutModel",
      "state": {}
     },
     "d787ef1cafe54f81bd7e4d168b92fd82": {
      "model_module": "@jupyter-widgets/controls",
      "model_module_version": "2.0.0",
      "model_name": "HTMLStyleModel",
      "state": {
       "description_width": "",
       "font_size": null,
       "text_color": null
      }
     },
     "d92d3238cd6a49a1b776053b384914e5": {
      "model_module": "@jupyter-widgets/base",
      "model_module_version": "2.0.0",
      "model_name": "LayoutModel",
      "state": {}
     },
     "d9fb2ea95ddb41149f51cea3126a9d98": {
      "model_module": "@jupyter-widgets/base",
      "model_module_version": "2.0.0",
      "model_name": "LayoutModel",
      "state": {}
     },
     "dc4309843b4948198b5ecd11854d5768": {
      "model_module": "@jupyter-widgets/controls",
      "model_module_version": "2.0.0",
      "model_name": "HTMLStyleModel",
      "state": {
       "description_width": "",
       "font_size": null,
       "text_color": null
      }
     },
     "e29f6a9b20884e48ab126997191d1be9": {
      "model_module": "@jupyter-widgets/controls",
      "model_module_version": "2.0.0",
      "model_name": "FloatProgressModel",
      "state": {
       "bar_style": "success",
       "layout": "IPY_MODEL_b3f80130b1204732a40ac0a40de06bed",
       "max": 1584,
       "style": "IPY_MODEL_97815d43827246cb8fb0349226b11c1a",
       "value": 1584
      }
     },
     "ebaf605414d2422d84a99742e29555aa": {
      "model_module": "@jupyter-widgets/base",
      "model_module_version": "2.0.0",
      "model_name": "LayoutModel",
      "state": {}
     },
     "ed7e076f644e444497567b4995bfcc88": {
      "model_module": "@jupyter-widgets/controls",
      "model_module_version": "2.0.0",
      "model_name": "FloatProgressModel",
      "state": {
       "bar_style": "success",
       "layout": "IPY_MODEL_bc5317762c95474ba350932f3dc32d44",
       "max": 280,
       "style": "IPY_MODEL_6c4d503d9a9f487392d16cc15f932070",
       "value": 280
      }
     },
     "ef6d2c1a37c24b2590e69c24436e251b": {
      "model_module": "@jupyter-widgets/controls",
      "model_module_version": "2.0.0",
      "model_name": "ProgressStyleModel",
      "state": {
       "description_width": ""
      }
     },
     "f1e9fa388731423087b50e8b12ec0a2e": {
      "model_module": "@jupyter-widgets/base",
      "model_module_version": "2.0.0",
      "model_name": "LayoutModel",
      "state": {}
     },
     "fe6ca3c342cb4e318c4e1ef56bab249a": {
      "model_module": "@jupyter-widgets/controls",
      "model_module_version": "2.0.0",
      "model_name": "HTMLModel",
      "state": {
       "layout": "IPY_MODEL_27ec7e661eec46d6b7e79cebc8ab4f9c",
       "style": "IPY_MODEL_912b79fd7ced4b1493f69ff3826b107a",
       "value": "YEARS: 100%"
      }
     }
    },
    "version_major": 2,
    "version_minor": 0
   }
  }
 },
 "nbformat": 4,
 "nbformat_minor": 5
}
